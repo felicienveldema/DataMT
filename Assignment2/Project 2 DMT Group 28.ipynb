{
 "cells": [
  {
   "cell_type": "markdown",
   "metadata": {},
   "source": [
    "# Project 2 DMT Group 28 2018\n",
    "\n",
    "Changxin Miao 11853018 cmo440\n",
    "\n",
    "Michael Mo 10770518 mmo740\n",
    "\n",
    "Féliciën Veldema 10739335 Fva350\n",
    "\n"
   ]
  },
  {
   "cell_type": "code",
   "execution_count": null,
   "metadata": {
    "collapsed": true
   },
   "outputs": [],
   "source": [
    "import numpy as np\n",
    "import pandas as pd\n",
    "import matplotlib.pyplot as plt\n",
    "\n",
    "from pandas import tseries\n",
    "from pathlib import Path\n",
    "from scipy import stats"
   ]
  },
  {
   "cell_type": "markdown",
   "metadata": {},
   "source": [
    "# Data Analysis / Preparation"
   ]
  },
  {
   "cell_type": "code",
   "execution_count": null,
   "metadata": {
    "collapsed": false,
    "scrolled": false
   },
   "outputs": [],
   "source": [
    "#LOAD The data\n",
    "path = 'Data Mining VU data/training_set_VU_DM_2014.csv'\n",
    "df = pd.read_csv(path, sep=',')\n",
    "\n",
    "#unique search ids\n",
    "srch_ids = df.srch_id.unique()\n",
    "features = df.columns.tolist()\n",
    "entries = len(df.date_time.count())\n",
    "\n",
    "print(features)\n",
    "print(srch_ids)"
   ]
  },
  {
   "cell_type": "code",
   "execution_count": null,
   "metadata": {
    "collapsed": false
   },
   "outputs": [],
   "source": [
    "#STATUS PRINTS      #NOTE before cleaning\n",
    "print(\"STATISTICS\")\n",
    "print(\"The amount of unique search ids are: \", len(srch_ids), \"\\n\")\n",
    "print(\"\\nThe variables used are:\\n\", features)\n",
    "\n",
    "##NOTE COMMENTED DUE TO LARGE AMOUNT\n",
    "# print(\"\\nHow many data points per id:\")\n",
    "# datalist = []\n",
    "# for i in srch_ids:\n",
    "#     datalist.append(len(df.loc[df['srch_id'] == i]))\n",
    "#     print(\"Search id: \", i ,\" amount of data inputs: \", len(df.loc[df['srch_id'] == i]))\n",
    "###\n",
    "\n",
    "print(\"\\nAmount of data rows: \", entries)\n",
    "\n",
    "df.describe(include='all')"
   ]
  },
  {
   "cell_type": "markdown",
   "metadata": {},
   "source": [
    "Note: first process data then split?"
   ]
  }
 ],
 "metadata": {
  "kernelspec": {
   "display_name": "Python 3",
   "language": "python",
   "name": "python3"
  },
  "language_info": {
   "codemirror_mode": {
    "name": "ipython",
    "version": 3
   },
   "file_extension": ".py",
   "mimetype": "text/x-python",
   "name": "python",
   "nbconvert_exporter": "python",
   "pygments_lexer": "ipython3",
   "version": "3.6.0"
  }
 },
 "nbformat": 4,
 "nbformat_minor": 2
}
