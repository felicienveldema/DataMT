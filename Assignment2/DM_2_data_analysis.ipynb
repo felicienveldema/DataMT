{
 "cells": [
  {
   "cell_type": "markdown",
   "metadata": {},
   "source": [
    "# Project 2 DMT Group 28 2018\n",
    "\n",
    "Changxin Miao 11853018 cmo440\n",
    "\n",
    "Michael Mo 10770518 mmo740\n",
    "\n",
    "Féliciën Veldema 10739335 Fva350\n",
    "\n"
   ]
  },
  {
   "cell_type": "code",
   "execution_count": 1,
   "metadata": {},
   "outputs": [],
   "source": [
    "import numpy as np\n",
    "import pandas as pd\n",
    "import matplotlib.pyplot as plt\n",
    "\n",
    "from pandas import tseries\n",
    "from pathlib import Path\n",
    "from scipy import stats"
   ]
  },
  {
   "cell_type": "markdown",
   "metadata": {},
   "source": [
    "# Data Analysis / Preparation"
   ]
  },
  {
   "cell_type": "code",
   "execution_count": 2,
   "metadata": {
    "scrolled": false
   },
   "outputs": [
    {
     "name": "stdout",
     "output_type": "stream",
     "text": [
      "['srch_id', 'date_time', 'site_id', 'visitor_location_country_id', 'visitor_hist_starrating', 'visitor_hist_adr_usd', 'prop_country_id', 'prop_id', 'prop_starrating', 'prop_review_score', 'prop_brand_bool', 'prop_location_score1', 'prop_location_score2', 'prop_log_historical_price', 'position', 'price_usd', 'promotion_flag', 'srch_destination_id', 'srch_length_of_stay', 'srch_booking_window', 'srch_adults_count', 'srch_children_count', 'srch_room_count', 'srch_saturday_night_bool', 'srch_query_affinity_score', 'orig_destination_distance', 'random_bool', 'comp1_rate', 'comp1_inv', 'comp1_rate_percent_diff', 'comp2_rate', 'comp2_inv', 'comp2_rate_percent_diff', 'comp3_rate', 'comp3_inv', 'comp3_rate_percent_diff', 'comp4_rate', 'comp4_inv', 'comp4_rate_percent_diff', 'comp5_rate', 'comp5_inv', 'comp5_rate_percent_diff', 'comp6_rate', 'comp6_inv', 'comp6_rate_percent_diff', 'comp7_rate', 'comp7_inv', 'comp7_rate_percent_diff', 'comp8_rate', 'comp8_inv', 'comp8_rate_percent_diff', 'click_bool', 'gross_bookings_usd', 'booking_bool']\n",
      "[     1      4      6 ... 332782 332784 332785]\n"
     ]
    }
   ],
   "source": [
    "#LOAD The data\n",
    "path = 'Data Mining VU data/training_set_VU_DM_2014.csv'\n",
    "#path = 'lines_1_mil.csv'\n",
    "df = pd.read_csv(path, sep=',')\n",
    "\n",
    "#unique search ids\n",
    "srch_ids = df.srch_id.unique()\n",
    "features = df.columns.tolist()\n",
    "#entries = len(df.date_time.count())\n",
    "entries = df.date_time.count()\n",
    "\n",
    "print(features)\n",
    "print(srch_ids)"
   ]
  },
  {
   "cell_type": "code",
   "execution_count": 3,
   "metadata": {},
   "outputs": [
    {
     "name": "stdout",
     "output_type": "stream",
     "text": [
      "STATISTICS\n",
      "The amount of unique search ids are:  199795 \n",
      "\n",
      "\n",
      "The variables used are:\n",
      " ['srch_id', 'date_time', 'site_id', 'visitor_location_country_id', 'visitor_hist_starrating', 'visitor_hist_adr_usd', 'prop_country_id', 'prop_id', 'prop_starrating', 'prop_review_score', 'prop_brand_bool', 'prop_location_score1', 'prop_location_score2', 'prop_log_historical_price', 'position', 'price_usd', 'promotion_flag', 'srch_destination_id', 'srch_length_of_stay', 'srch_booking_window', 'srch_adults_count', 'srch_children_count', 'srch_room_count', 'srch_saturday_night_bool', 'srch_query_affinity_score', 'orig_destination_distance', 'random_bool', 'comp1_rate', 'comp1_inv', 'comp1_rate_percent_diff', 'comp2_rate', 'comp2_inv', 'comp2_rate_percent_diff', 'comp3_rate', 'comp3_inv', 'comp3_rate_percent_diff', 'comp4_rate', 'comp4_inv', 'comp4_rate_percent_diff', 'comp5_rate', 'comp5_inv', 'comp5_rate_percent_diff', 'comp6_rate', 'comp6_inv', 'comp6_rate_percent_diff', 'comp7_rate', 'comp7_inv', 'comp7_rate_percent_diff', 'comp8_rate', 'comp8_inv', 'comp8_rate_percent_diff', 'click_bool', 'gross_bookings_usd', 'booking_bool']\n",
      "\n",
      "Amount of data rows:  4958347\n"
     ]
    },
    {
     "data": {
      "text/html": [
       "<div>\n",
       "<style scoped>\n",
       "    .dataframe tbody tr th:only-of-type {\n",
       "        vertical-align: middle;\n",
       "    }\n",
       "\n",
       "    .dataframe tbody tr th {\n",
       "        vertical-align: top;\n",
       "    }\n",
       "\n",
       "    .dataframe thead th {\n",
       "        text-align: right;\n",
       "    }\n",
       "</style>\n",
       "<table border=\"1\" class=\"dataframe\">\n",
       "  <thead>\n",
       "    <tr style=\"text-align: right;\">\n",
       "      <th></th>\n",
       "      <th>srch_id</th>\n",
       "      <th>date_time</th>\n",
       "      <th>site_id</th>\n",
       "      <th>visitor_location_country_id</th>\n",
       "      <th>visitor_hist_starrating</th>\n",
       "      <th>visitor_hist_adr_usd</th>\n",
       "      <th>prop_country_id</th>\n",
       "      <th>prop_id</th>\n",
       "      <th>prop_starrating</th>\n",
       "      <th>prop_review_score</th>\n",
       "      <th>...</th>\n",
       "      <th>comp6_rate_percent_diff</th>\n",
       "      <th>comp7_rate</th>\n",
       "      <th>comp7_inv</th>\n",
       "      <th>comp7_rate_percent_diff</th>\n",
       "      <th>comp8_rate</th>\n",
       "      <th>comp8_inv</th>\n",
       "      <th>comp8_rate_percent_diff</th>\n",
       "      <th>click_bool</th>\n",
       "      <th>gross_bookings_usd</th>\n",
       "      <th>booking_bool</th>\n",
       "    </tr>\n",
       "  </thead>\n",
       "  <tbody>\n",
       "    <tr>\n",
       "      <th>count</th>\n",
       "      <td>4.958347e+06</td>\n",
       "      <td>4958347</td>\n",
       "      <td>4.958347e+06</td>\n",
       "      <td>4.958347e+06</td>\n",
       "      <td>251866.000000</td>\n",
       "      <td>252988.000000</td>\n",
       "      <td>4.958347e+06</td>\n",
       "      <td>4.958347e+06</td>\n",
       "      <td>4.958347e+06</td>\n",
       "      <td>4.950983e+06</td>\n",
       "      <td>...</td>\n",
       "      <td>96174.000000</td>\n",
       "      <td>315348.000000</td>\n",
       "      <td>356422.000000</td>\n",
       "      <td>138515.000000</td>\n",
       "      <td>1.916654e+06</td>\n",
       "      <td>1.987503e+06</td>\n",
       "      <td>614730.000000</td>\n",
       "      <td>4.958347e+06</td>\n",
       "      <td>138390.000000</td>\n",
       "      <td>4.958347e+06</td>\n",
       "    </tr>\n",
       "    <tr>\n",
       "      <th>unique</th>\n",
       "      <td>NaN</td>\n",
       "      <td>198615</td>\n",
       "      <td>NaN</td>\n",
       "      <td>NaN</td>\n",
       "      <td>NaN</td>\n",
       "      <td>NaN</td>\n",
       "      <td>NaN</td>\n",
       "      <td>NaN</td>\n",
       "      <td>NaN</td>\n",
       "      <td>NaN</td>\n",
       "      <td>...</td>\n",
       "      <td>NaN</td>\n",
       "      <td>NaN</td>\n",
       "      <td>NaN</td>\n",
       "      <td>NaN</td>\n",
       "      <td>NaN</td>\n",
       "      <td>NaN</td>\n",
       "      <td>NaN</td>\n",
       "      <td>NaN</td>\n",
       "      <td>NaN</td>\n",
       "      <td>NaN</td>\n",
       "    </tr>\n",
       "    <tr>\n",
       "      <th>top</th>\n",
       "      <td>NaN</td>\n",
       "      <td>2012-11-02 14:04:51</td>\n",
       "      <td>NaN</td>\n",
       "      <td>NaN</td>\n",
       "      <td>NaN</td>\n",
       "      <td>NaN</td>\n",
       "      <td>NaN</td>\n",
       "      <td>NaN</td>\n",
       "      <td>NaN</td>\n",
       "      <td>NaN</td>\n",
       "      <td>...</td>\n",
       "      <td>NaN</td>\n",
       "      <td>NaN</td>\n",
       "      <td>NaN</td>\n",
       "      <td>NaN</td>\n",
       "      <td>NaN</td>\n",
       "      <td>NaN</td>\n",
       "      <td>NaN</td>\n",
       "      <td>NaN</td>\n",
       "      <td>NaN</td>\n",
       "      <td>NaN</td>\n",
       "    </tr>\n",
       "    <tr>\n",
       "      <th>freq</th>\n",
       "      <td>NaN</td>\n",
       "      <td>95</td>\n",
       "      <td>NaN</td>\n",
       "      <td>NaN</td>\n",
       "      <td>NaN</td>\n",
       "      <td>NaN</td>\n",
       "      <td>NaN</td>\n",
       "      <td>NaN</td>\n",
       "      <td>NaN</td>\n",
       "      <td>NaN</td>\n",
       "      <td>...</td>\n",
       "      <td>NaN</td>\n",
       "      <td>NaN</td>\n",
       "      <td>NaN</td>\n",
       "      <td>NaN</td>\n",
       "      <td>NaN</td>\n",
       "      <td>NaN</td>\n",
       "      <td>NaN</td>\n",
       "      <td>NaN</td>\n",
       "      <td>NaN</td>\n",
       "      <td>NaN</td>\n",
       "    </tr>\n",
       "    <tr>\n",
       "      <th>mean</th>\n",
       "      <td>1.663666e+05</td>\n",
       "      <td>NaN</td>\n",
       "      <td>9.953133e+00</td>\n",
       "      <td>1.753405e+02</td>\n",
       "      <td>3.374334</td>\n",
       "      <td>176.022659</td>\n",
       "      <td>1.739739e+02</td>\n",
       "      <td>7.007918e+04</td>\n",
       "      <td>3.180525e+00</td>\n",
       "      <td>3.777777e+00</td>\n",
       "      <td>...</td>\n",
       "      <td>17.250473</td>\n",
       "      <td>0.145969</td>\n",
       "      <td>0.083202</td>\n",
       "      <td>19.433267</td>\n",
       "      <td>-6.089936e-02</td>\n",
       "      <td>9.962752e-03</td>\n",
       "      <td>22.430384</td>\n",
       "      <td>4.474858e-02</td>\n",
       "      <td>386.283316</td>\n",
       "      <td>2.791051e-02</td>\n",
       "    </tr>\n",
       "    <tr>\n",
       "      <th>std</th>\n",
       "      <td>9.611223e+04</td>\n",
       "      <td>NaN</td>\n",
       "      <td>7.646890e+00</td>\n",
       "      <td>6.591625e+01</td>\n",
       "      <td>0.692519</td>\n",
       "      <td>107.254493</td>\n",
       "      <td>6.834525e+01</td>\n",
       "      <td>4.060992e+04</td>\n",
       "      <td>1.051024e+00</td>\n",
       "      <td>1.050329e+00</td>\n",
       "      <td>...</td>\n",
       "      <td>31.160313</td>\n",
       "      <td>0.578202</td>\n",
       "      <td>0.316722</td>\n",
       "      <td>54.370221</td>\n",
       "      <td>4.691723e-01</td>\n",
       "      <td>2.029142e-01</td>\n",
       "      <td>895.965854</td>\n",
       "      <td>2.067514e-01</td>\n",
       "      <td>821.190577</td>\n",
       "      <td>1.647165e-01</td>\n",
       "    </tr>\n",
       "    <tr>\n",
       "      <th>min</th>\n",
       "      <td>1.000000e+00</td>\n",
       "      <td>NaN</td>\n",
       "      <td>1.000000e+00</td>\n",
       "      <td>1.000000e+00</td>\n",
       "      <td>1.410000</td>\n",
       "      <td>0.000000</td>\n",
       "      <td>1.000000e+00</td>\n",
       "      <td>1.000000e+00</td>\n",
       "      <td>0.000000e+00</td>\n",
       "      <td>0.000000e+00</td>\n",
       "      <td>...</td>\n",
       "      <td>2.000000</td>\n",
       "      <td>-1.000000</td>\n",
       "      <td>-1.000000</td>\n",
       "      <td>2.000000</td>\n",
       "      <td>-1.000000e+00</td>\n",
       "      <td>-1.000000e+00</td>\n",
       "      <td>2.000000</td>\n",
       "      <td>0.000000e+00</td>\n",
       "      <td>0.000000</td>\n",
       "      <td>0.000000e+00</td>\n",
       "    </tr>\n",
       "    <tr>\n",
       "      <th>25%</th>\n",
       "      <td>8.293600e+04</td>\n",
       "      <td>NaN</td>\n",
       "      <td>5.000000e+00</td>\n",
       "      <td>1.000000e+02</td>\n",
       "      <td>2.920000</td>\n",
       "      <td>109.810000</td>\n",
       "      <td>1.000000e+02</td>\n",
       "      <td>3.501000e+04</td>\n",
       "      <td>3.000000e+00</td>\n",
       "      <td>3.500000e+00</td>\n",
       "      <td>...</td>\n",
       "      <td>6.000000</td>\n",
       "      <td>0.000000</td>\n",
       "      <td>0.000000</td>\n",
       "      <td>7.000000</td>\n",
       "      <td>0.000000e+00</td>\n",
       "      <td>0.000000e+00</td>\n",
       "      <td>7.000000</td>\n",
       "      <td>0.000000e+00</td>\n",
       "      <td>124.000000</td>\n",
       "      <td>0.000000e+00</td>\n",
       "    </tr>\n",
       "    <tr>\n",
       "      <th>50%</th>\n",
       "      <td>1.665070e+05</td>\n",
       "      <td>NaN</td>\n",
       "      <td>5.000000e+00</td>\n",
       "      <td>2.190000e+02</td>\n",
       "      <td>3.450000</td>\n",
       "      <td>152.240000</td>\n",
       "      <td>2.190000e+02</td>\n",
       "      <td>6.963800e+04</td>\n",
       "      <td>3.000000e+00</td>\n",
       "      <td>4.000000e+00</td>\n",
       "      <td>...</td>\n",
       "      <td>11.000000</td>\n",
       "      <td>0.000000</td>\n",
       "      <td>0.000000</td>\n",
       "      <td>12.000000</td>\n",
       "      <td>0.000000e+00</td>\n",
       "      <td>0.000000e+00</td>\n",
       "      <td>11.000000</td>\n",
       "      <td>0.000000e+00</td>\n",
       "      <td>218.400000</td>\n",
       "      <td>0.000000e+00</td>\n",
       "    </tr>\n",
       "    <tr>\n",
       "      <th>75%</th>\n",
       "      <td>2.497240e+05</td>\n",
       "      <td>NaN</td>\n",
       "      <td>1.400000e+01</td>\n",
       "      <td>2.190000e+02</td>\n",
       "      <td>3.930000</td>\n",
       "      <td>213.490000</td>\n",
       "      <td>2.190000e+02</td>\n",
       "      <td>1.051680e+05</td>\n",
       "      <td>4.000000e+00</td>\n",
       "      <td>4.500000e+00</td>\n",
       "      <td>...</td>\n",
       "      <td>18.000000</td>\n",
       "      <td>1.000000</td>\n",
       "      <td>0.000000</td>\n",
       "      <td>20.000000</td>\n",
       "      <td>0.000000e+00</td>\n",
       "      <td>0.000000e+00</td>\n",
       "      <td>17.000000</td>\n",
       "      <td>0.000000e+00</td>\n",
       "      <td>429.790000</td>\n",
       "      <td>0.000000e+00</td>\n",
       "    </tr>\n",
       "    <tr>\n",
       "      <th>max</th>\n",
       "      <td>3.327850e+05</td>\n",
       "      <td>NaN</td>\n",
       "      <td>3.400000e+01</td>\n",
       "      <td>2.310000e+02</td>\n",
       "      <td>5.000000</td>\n",
       "      <td>1958.700000</td>\n",
       "      <td>2.300000e+02</td>\n",
       "      <td>1.408210e+05</td>\n",
       "      <td>5.000000e+00</td>\n",
       "      <td>5.000000e+00</td>\n",
       "      <td>...</td>\n",
       "      <td>1620.000000</td>\n",
       "      <td>1.000000</td>\n",
       "      <td>1.000000</td>\n",
       "      <td>9900.000000</td>\n",
       "      <td>1.000000e+00</td>\n",
       "      <td>1.000000e+00</td>\n",
       "      <td>149400.000000</td>\n",
       "      <td>1.000000e+00</td>\n",
       "      <td>159292.380000</td>\n",
       "      <td>1.000000e+00</td>\n",
       "    </tr>\n",
       "  </tbody>\n",
       "</table>\n",
       "<p>11 rows × 54 columns</p>\n",
       "</div>"
      ],
      "text/plain": [
       "             srch_id            date_time       site_id  \\\n",
       "count   4.958347e+06              4958347  4.958347e+06   \n",
       "unique           NaN               198615           NaN   \n",
       "top              NaN  2012-11-02 14:04:51           NaN   \n",
       "freq             NaN                   95           NaN   \n",
       "mean    1.663666e+05                  NaN  9.953133e+00   \n",
       "std     9.611223e+04                  NaN  7.646890e+00   \n",
       "min     1.000000e+00                  NaN  1.000000e+00   \n",
       "25%     8.293600e+04                  NaN  5.000000e+00   \n",
       "50%     1.665070e+05                  NaN  5.000000e+00   \n",
       "75%     2.497240e+05                  NaN  1.400000e+01   \n",
       "max     3.327850e+05                  NaN  3.400000e+01   \n",
       "\n",
       "        visitor_location_country_id  visitor_hist_starrating  \\\n",
       "count                  4.958347e+06            251866.000000   \n",
       "unique                          NaN                      NaN   \n",
       "top                             NaN                      NaN   \n",
       "freq                            NaN                      NaN   \n",
       "mean                   1.753405e+02                 3.374334   \n",
       "std                    6.591625e+01                 0.692519   \n",
       "min                    1.000000e+00                 1.410000   \n",
       "25%                    1.000000e+02                 2.920000   \n",
       "50%                    2.190000e+02                 3.450000   \n",
       "75%                    2.190000e+02                 3.930000   \n",
       "max                    2.310000e+02                 5.000000   \n",
       "\n",
       "        visitor_hist_adr_usd  prop_country_id       prop_id  prop_starrating  \\\n",
       "count          252988.000000     4.958347e+06  4.958347e+06     4.958347e+06   \n",
       "unique                   NaN              NaN           NaN              NaN   \n",
       "top                      NaN              NaN           NaN              NaN   \n",
       "freq                     NaN              NaN           NaN              NaN   \n",
       "mean              176.022659     1.739739e+02  7.007918e+04     3.180525e+00   \n",
       "std               107.254493     6.834525e+01  4.060992e+04     1.051024e+00   \n",
       "min                 0.000000     1.000000e+00  1.000000e+00     0.000000e+00   \n",
       "25%               109.810000     1.000000e+02  3.501000e+04     3.000000e+00   \n",
       "50%               152.240000     2.190000e+02  6.963800e+04     3.000000e+00   \n",
       "75%               213.490000     2.190000e+02  1.051680e+05     4.000000e+00   \n",
       "max              1958.700000     2.300000e+02  1.408210e+05     5.000000e+00   \n",
       "\n",
       "        prop_review_score      ...       comp6_rate_percent_diff  \\\n",
       "count        4.950983e+06      ...                  96174.000000   \n",
       "unique                NaN      ...                           NaN   \n",
       "top                   NaN      ...                           NaN   \n",
       "freq                  NaN      ...                           NaN   \n",
       "mean         3.777777e+00      ...                     17.250473   \n",
       "std          1.050329e+00      ...                     31.160313   \n",
       "min          0.000000e+00      ...                      2.000000   \n",
       "25%          3.500000e+00      ...                      6.000000   \n",
       "50%          4.000000e+00      ...                     11.000000   \n",
       "75%          4.500000e+00      ...                     18.000000   \n",
       "max          5.000000e+00      ...                   1620.000000   \n",
       "\n",
       "           comp7_rate      comp7_inv  comp7_rate_percent_diff    comp8_rate  \\\n",
       "count   315348.000000  356422.000000            138515.000000  1.916654e+06   \n",
       "unique            NaN            NaN                      NaN           NaN   \n",
       "top               NaN            NaN                      NaN           NaN   \n",
       "freq              NaN            NaN                      NaN           NaN   \n",
       "mean         0.145969       0.083202                19.433267 -6.089936e-02   \n",
       "std          0.578202       0.316722                54.370221  4.691723e-01   \n",
       "min         -1.000000      -1.000000                 2.000000 -1.000000e+00   \n",
       "25%          0.000000       0.000000                 7.000000  0.000000e+00   \n",
       "50%          0.000000       0.000000                12.000000  0.000000e+00   \n",
       "75%          1.000000       0.000000                20.000000  0.000000e+00   \n",
       "max          1.000000       1.000000              9900.000000  1.000000e+00   \n",
       "\n",
       "           comp8_inv  comp8_rate_percent_diff    click_bool  \\\n",
       "count   1.987503e+06            614730.000000  4.958347e+06   \n",
       "unique           NaN                      NaN           NaN   \n",
       "top              NaN                      NaN           NaN   \n",
       "freq             NaN                      NaN           NaN   \n",
       "mean    9.962752e-03                22.430384  4.474858e-02   \n",
       "std     2.029142e-01               895.965854  2.067514e-01   \n",
       "min    -1.000000e+00                 2.000000  0.000000e+00   \n",
       "25%     0.000000e+00                 7.000000  0.000000e+00   \n",
       "50%     0.000000e+00                11.000000  0.000000e+00   \n",
       "75%     0.000000e+00                17.000000  0.000000e+00   \n",
       "max     1.000000e+00            149400.000000  1.000000e+00   \n",
       "\n",
       "        gross_bookings_usd  booking_bool  \n",
       "count        138390.000000  4.958347e+06  \n",
       "unique                 NaN           NaN  \n",
       "top                    NaN           NaN  \n",
       "freq                   NaN           NaN  \n",
       "mean            386.283316  2.791051e-02  \n",
       "std             821.190577  1.647165e-01  \n",
       "min               0.000000  0.000000e+00  \n",
       "25%             124.000000  0.000000e+00  \n",
       "50%             218.400000  0.000000e+00  \n",
       "75%             429.790000  0.000000e+00  \n",
       "max          159292.380000  1.000000e+00  \n",
       "\n",
       "[11 rows x 54 columns]"
      ]
     },
     "execution_count": 3,
     "metadata": {},
     "output_type": "execute_result"
    }
   ],
   "source": [
    "#STATUS PRINTS      #NOTE before cleaning\n",
    "print(\"STATISTICS\")\n",
    "print(\"The amount of unique search ids are: \", len(srch_ids), \"\\n\")\n",
    "print(\"\\nThe variables used are:\\n\", features)\n",
    "\n",
    "##NOTE COMMENTED DUE TO LARGE AMOUNT\n",
    "# print(\"\\nHow many data points per id:\")\n",
    "# datalist = []\n",
    "# for i in srch_ids:\n",
    "#     datalist.append(len(df.loc[df['srch_id'] == i]))\n",
    "#     print(\"Search id: \", i ,\" amount of data inputs: \", len(df.loc[df['srch_id'] == i]))\n",
    "###\n",
    "\n",
    "print(\"\\nAmount of data rows: \", entries)\n",
    "\n",
    "df.describe(include='all')"
   ]
  },
  {
   "cell_type": "code",
   "execution_count": 7,
   "metadata": {},
   "outputs": [
    {
     "data": {
      "text/plain": [
       "76465"
      ]
     },
     "execution_count": 7,
     "metadata": {},
     "output_type": "execute_result"
    }
   ],
   "source": [
    "len(df['price_usd'].unique())"
   ]
  },
  {
   "cell_type": "code",
   "execution_count": null,
   "metadata": {},
   "outputs": [],
   "source": []
  },
  {
   "cell_type": "code",
   "execution_count": 8,
   "metadata": {},
   "outputs": [
    {
     "name": "stdout",
     "output_type": "stream",
     "text": [
      "Data time span is from: 2012-11-01 00:08:29 to 2013-06-30 23:58:24\n"
     ]
    }
   ],
   "source": [
    "time_min = df['date_time'].min()\n",
    "time_max = df['date_time'].max()\n",
    "print(\"Data time span is from: \" + str(time_min) + \" to \" + str(time_max))"
   ]
  },
  {
   "cell_type": "code",
   "execution_count": 5,
   "metadata": {},
   "outputs": [
    {
     "data": {
      "image/png": "[encoded data removed]",
      "text/plain": [
       "<Figure size 432x288 with 1 Axes>"
      ]
     },
     "metadata": {},
     "output_type": "display_data"
    }
   ],
   "source": [
    "df_dt2 = df\n",
    "df_dt2['dt2'] = pd.to_datetime(df['date_time'])\n",
    "df_dt2['srch_id'].groupby(by=[df_dt2.dt2.dt.year,df_dt2.dt2.dt.month]).agg({'count'}).plot(kind=\"bar\")\n",
    "plt.xlabel('Time (Year,Month)')\n",
    "plt.ylabel('Number of data points')\n",
    "plt.title(\"Data points per month\")\n",
    "plt.show()"
   ]
  },
  {
   "cell_type": "code",
   "execution_count": 9,
   "metadata": {},
   "outputs": [
    {
     "data": {
      "image/png": "[encoded data removed]",
      "text/plain": [
       "<Figure size 1080x288 with 1 Axes>"
      ]
     },
     "metadata": {},
     "output_type": "display_data"
    }
   ],
   "source": [
    "plt.figure(figsize=(15,4))\n",
    "(df.count()/df.shape[0]).plot(kind=\"bar\")\n",
    "plt.xlabel('Data attributes')\n",
    "plt.ylabel('Percentage')\n",
    "plt.title(\"Percentage of non-NA entries\")\n",
    "plt.show()"
   ]
  },
  {
   "cell_type": "code",
   "execution_count": 7,
   "metadata": {},
   "outputs": [
    {
     "data": {
      "text/plain": [
       "[(1, 28, 1, 37),\n",
       " (4, 32, 1, 36),\n",
       " (6, 5, 1, 6),\n",
       " (8, 21, 1, 25),\n",
       " (11, 33, 1, 37),\n",
       " (12, 28, 1, 32)]"
      ]
     },
     "execution_count": 7,
     "metadata": {},
     "output_type": "execute_result"
    }
   ],
   "source": [
    "# This shows that not at each position a hotel is shown\n",
    "num_rows = []\n",
    "for k in range(0,15):\n",
    "    df_s1 = df.loc[df['srch_id'] == k]\n",
    "    if df_s1.shape[0] != 0:\n",
    "        num_rows.append(( k, df_s1.shape[0] , df_s1['position'].min(), df_s1['position'].max() ) )\n",
    "num_rows"
   ]
  },
  {
   "cell_type": "code",
   "execution_count": 10,
   "metadata": {},
   "outputs": [
    {
     "name": "stdout",
     "output_type": "stream",
     "text": [
      "Number of data points where random ordering was used: 1467177\n",
      "Number of data points where normal ordering was used: 3491170\n",
      "Max position found for a random ordering: 40\n",
      "Max position found for a normal ordering: 40\n"
     ]
    }
   ],
   "source": [
    "# Check the list order of how the hotel properties were shown.\n",
    "df_ord = df[['srch_id','random_bool','position','click_bool','booking_bool']]\n",
    "df_ran_ord = df_ord.loc[df['random_bool'] == 1]\n",
    "df_nor_ord = df_ord.loc[df['random_bool'] == 0]\n",
    "print(\"Number of data points where random ordering was used: \" + str(df_ran_ord.shape[0]))\n",
    "print(\"Number of data points where normal ordering was used: \" + str(df_nor_ord.shape[0]))\n",
    "max_pos_ran = df_ran_ord['position'].max()\n",
    "max_pos_nor = df_nor_ord['position'].max()\n",
    "print(\"Max position found for a random ordering: \" + str(max_pos_ran))\n",
    "print(\"Max position found for a normal ordering: \" + str(max_pos_nor))"
   ]
  },
  {
   "cell_type": "code",
   "execution_count": 11,
   "metadata": {},
   "outputs": [],
   "source": [
    "ran_ord_pos_tot_counts = df_ran_ord['position'].value_counts().sort_index(ascending=False)\n",
    "nor_ord_pos_tot_counts = df_nor_ord['position'].value_counts().sort_index(ascending=False)"
   ]
  },
  {
   "cell_type": "code",
   "execution_count": 10,
   "metadata": {},
   "outputs": [
    {
     "data": {
      "image/png": "[encoded data removed]",
      "text/plain": [
       "<Figure size 432x288 with 1 Axes>"
      ]
     },
     "metadata": {},
     "output_type": "display_data"
    },
    {
     "data": {
      "image/png": "[encoded data removed]",
      "text/plain": [
       "<Figure size 432x288 with 1 Axes>"
      ]
     },
     "metadata": {},
     "output_type": "display_data"
    }
   ],
   "source": [
    "ran_ord_pos_tot_counts[::-1].plot(kind=\"bar\")\n",
    "plt.xlabel('Position')\n",
    "plt.ylabel('Count')\n",
    "plt.title(\"Number of occurences for each position with random ordering\")\n",
    "plt.show()\n",
    "nor_ord_pos_tot_counts[::-1].plot(kind=\"bar\")\n",
    "plt.xlabel('Position')\n",
    "plt.ylabel('Count')\n",
    "plt.title(\"Number of occurences for each position with normal ordering\")\n",
    "plt.show()"
   ]
  },
  {
   "cell_type": "code",
   "execution_count": 12,
   "metadata": {},
   "outputs": [],
   "source": [
    "# Count number of clicks, and bookings for random and normal orderings respectively.\n",
    "ran_ord_CB_counts = np.zeros((3,max_pos_ran))\n",
    "for name,group in df_ran_ord.groupby(by='position'):\n",
    "    ran_ord_CB_counts[0][name-1] = group.shape[0]\n",
    "    ran_ord_CB_counts[1][name-1] = group['click_bool'].sum()\n",
    "    ran_ord_CB_counts[2][name-1] = group['booking_bool'].sum()\n",
    "    \n",
    "nor_ord_CB_counts = np.zeros((3,max_pos_nor))\n",
    "for name,group in df_nor_ord.groupby(by='position'):\n",
    "    nor_ord_CB_counts[0][name-1] = group.shape[0]\n",
    "    nor_ord_CB_counts[1][name-1] = group['click_bool'].sum()\n",
    "    nor_ord_CB_counts[2][name-1] = group['booking_bool'].sum()"
   ]
  },
  {
   "cell_type": "code",
   "execution_count": 15,
   "metadata": {},
   "outputs": [
    {
     "data": {
      "image/png": "[encoded data removed]",
      "text/plain": [
       "<Figure size 1080x360 with 1 Axes>"
      ]
     },
     "metadata": {},
     "output_type": "display_data"
    }
   ],
   "source": [
    "#plt.bar(np.arange(0,max_pos_nor), ran_ord_CB_counts[1] / ran_ord_CB_counts[0])\n",
    "x=1+np.arange(0,max_pos_nor)\n",
    "plt.figure(figsize=(15,5))\n",
    "plt.bar(x-0.2, ran_ord_CB_counts[1] / ran_ord_CB_counts[0], width=0.4, label='Random')\n",
    "plt.bar(x+0.2, nor_ord_CB_counts[1] / nor_ord_CB_counts[0], width=0.4, label='Normal')\n",
    "plt.xlabel('Position')\n",
    "plt.xlim([0,1+len(x)])\n",
    "plt.ylabel('Click rate')\n",
    "plt.title(\"Click rate for each position\")\n",
    "plt.legend(loc='upper right')\n",
    "plt.show()"
   ]
  },
  {
   "cell_type": "code",
   "execution_count": 17,
   "metadata": {},
   "outputs": [
    {
     "data": {
      "image/png": "[encoded data removed]",
      "text/plain": [
       "<Figure size 1080x360 with 1 Axes>"
      ]
     },
     "metadata": {},
     "output_type": "display_data"
    }
   ],
   "source": [
    "#plt.bar(np.arange(0,max_pos_nor), ran_ord_CB_counts[1] / ran_ord_CB_counts[0])\n",
    "x=1+np.arange(0,max_pos_nor)\n",
    "plt.figure(figsize=(15,5))\n",
    "plt.bar(x-0.2, ran_ord_CB_counts[2] / ran_ord_CB_counts[0], width=0.4, label='Random')\n",
    "plt.bar(x+0.2, nor_ord_CB_counts[2] / nor_ord_CB_counts[0], width=0.4, label='Normal')\n",
    "plt.xlabel('Position')\n",
    "plt.xlim([0,1+len(x)])\n",
    "plt.ylabel('Book rate')\n",
    "plt.title(\"Book rate for each position\")\n",
    "plt.legend(loc='upper right')\n",
    "plt.show()"
   ]
  },
  {
   "cell_type": "code",
   "execution_count": 18,
   "metadata": {},
   "outputs": [
    {
     "name": "stderr",
     "output_type": "stream",
     "text": [
      "/home/michael/anaconda3/envs/dm/lib/python3.6/site-packages/ipykernel_launcher.py:4: RuntimeWarning: invalid value encountered in true_divide\n",
      "  after removing the cwd from sys.path.\n"
     ]
    },
    {
     "data": {
      "image/png": "[encoded data removed]",
      "text/plain": [
       "<Figure size 1080x360 with 1 Axes>"
      ]
     },
     "metadata": {},
     "output_type": "display_data"
    }
   ],
   "source": [
    "#plt.bar(np.arange(0,max_pos_nor), ran_ord_CB_counts[1] / ran_ord_CB_counts[0])\n",
    "x=1+np.arange(0,max_pos_nor)\n",
    "plt.figure(figsize=(15,5))\n",
    "plt.bar(x-0.2, ran_ord_CB_counts[2] / ran_ord_CB_counts[1], width=0.4, label='Random')\n",
    "plt.bar(x+0.2, nor_ord_CB_counts[2] / nor_ord_CB_counts[1], width=0.4, label='Normal')\n",
    "plt.xlabel('Position')\n",
    "plt.xlim([0,1+len(x)])\n",
    "plt.ylabel('Book per click rate')\n",
    "plt.title(\"Book per click rate for each position\")\n",
    "plt.legend(loc='upper right')\n",
    "plt.show()"
   ]
  },
  {
   "cell_type": "code",
   "execution_count": 19,
   "metadata": {},
   "outputs": [
    {
     "data": {
      "image/png": "[encoded data removed]",
      "text/plain": [
       "<Figure size 432x288 with 1 Axes>"
      ]
     },
     "metadata": {},
     "output_type": "display_data"
    }
   ],
   "source": [
    "# We check for all srch_ids: If there was a booking made, then the hotel booked had some price.\n",
    "# If we all hotels shown on price from cheap to expensive. What rank was the hotel then?\n",
    "\n",
    "max_position = df['position'].max()\n",
    "counts_book_pos = np.zeros(max_position)\n",
    "#print(max_position)\n",
    "\n",
    "for name,group in df[['srch_id','price_usd','booking_bool']].groupby(by='srch_id'):\n",
    "    # There is a booking\n",
    "    group = group.sort_values(by=['price_usd']) # Could be a tie -> no need to do anything, since we look at long run\n",
    "    if group['booking_bool'].sum() == 1:\n",
    "        price_rank = np.where(group['booking_bool']==1)[0]  # Rank starts from 0\n",
    "        counts_book_pos[price_rank] = counts_book_pos[price_rank] + 1\n",
    "    \n",
    "#print(counts_book_pos)\n",
    "plt.bar(np.arange(1,1+max_position), counts_book_pos)\n",
    "plt.xlabel('Price rank')\n",
    "plt.xlim([0,1+len(counts_book_pos)])\n",
    "plt.ylabel('Count')\n",
    "plt.title(\"Price rank of hotel which was booked\")\n",
    "plt.show()"
   ]
  },
  {
   "cell_type": "code",
   "execution_count": 20,
   "metadata": {},
   "outputs": [
    {
     "name": "stderr",
     "output_type": "stream",
     "text": [
      "/home/michael/anaconda3/envs/dm/lib/python3.6/site-packages/ipykernel_launcher.py:20: RuntimeWarning: invalid value encountered in true_divide\n"
     ]
    },
    {
     "data": {
      "image/png": "[encoded data removed]",
      "text/plain": [
       "<Figure size 432x288 with 1 Axes>"
      ]
     },
     "metadata": {},
     "output_type": "display_data"
    }
   ],
   "source": [
    "# We check for all srch_ids: If there was a booking made, then the hotel booked had some price.\n",
    "# If we all hotels shown on price from cheap to expensive. What rank was the hotel then?\n",
    "\n",
    "max_position = df['position'].max()\n",
    "counts_book_pos = np.zeros(max_position)\n",
    "counts_pos = np.zeros(max_position)\n",
    "#print(max_position)\n",
    "\n",
    "for name,group in df[['srch_id','price_usd','booking_bool']].groupby(by='srch_id'):\n",
    "    # There is a booking\n",
    "    group = group.sort_values(by=['price_usd']) # Could be a tie -> no need to do anything, since we look at long run\n",
    "    if group['booking_bool'].sum() == 1:\n",
    "        price_rank = np.where(group['booking_bool']==1)[0]  # Rank starts from 0\n",
    "        counts_book_pos[price_rank] = counts_book_pos[price_rank] + 1\n",
    "        \n",
    "    for k in range(0,group.shape[0]):\n",
    "        counts_pos[k] = counts_pos[k]+1\n",
    "    \n",
    "#print(counts_book_pos)\n",
    "plt.bar(np.arange(1,1+max_position), counts_book_pos / counts_pos)\n",
    "plt.xlabel('Price rank')\n",
    "plt.xlim([0,1+len(counts_book_pos)])\n",
    "plt.ylabel('Normalized count')\n",
    "plt.title(\"Normalized count for bookings per price rank\")\n",
    "plt.show()"
   ]
  },
  {
   "cell_type": "code",
   "execution_count": null,
   "metadata": {},
   "outputs": [],
   "source": [
    "# We check whether the price differs, when we consider where the hotel is located"
   ]
  },
  {
   "cell_type": "code",
   "execution_count": 15,
   "metadata": {},
   "outputs": [
    {
     "name": "stdout",
     "output_type": "stream",
     "text": [
      "Number of searches is: 199795\n",
      "Number of hotel countries is: 172\n"
     ]
    }
   ],
   "source": [
    "print(\"Number of searches is: \" + str(len(df['srch_id'].unique())))\n",
    "print(\"Number of hotel countries is: \" + str(len(df['prop_country_id'].unique())))"
   ]
  },
  {
   "cell_type": "code",
   "execution_count": 16,
   "metadata": {},
   "outputs": [],
   "source": [
    "df_one_per_SID = df.groupby(by='srch_id').first()\n",
    "#df_x = df.groupby('srch_id').apply(lambda df : df.sample(1))\n",
    "\n",
    "# Below is with when counting double, for top ~15 gives same result, but it could have been different\n",
    "# df['prop_country_id'].value_counts()"
   ]
  },
  {
   "cell_type": "code",
   "execution_count": null,
   "metadata": {
    "collapsed": true
   },
   "outputs": [],
   "source": []
  },
  {
   "cell_type": "code",
   "execution_count": 22,
   "metadata": {},
   "outputs": [
    {
     "name": "stdout",
     "output_type": "stream",
     "text": [
      "Int64Index([219, 100, 55, 31, 99, 129, 215, 220, 59, 216], dtype='int64')\n"
     ]
    }
   ],
   "source": [
    "top10_PC_ID = df_one_per_SID['prop_country_id'].value_counts()[0:10].keys()\n",
    "print(top10_PC_ID)"
   ]
  },
  {
   "cell_type": "code",
   "execution_count": 23,
   "metadata": {},
   "outputs": [],
   "source": [
    "df_one_per_SID[['prop_country_id','price_usd']];"
   ]
  },
  {
   "cell_type": "code",
   "execution_count": 24,
   "metadata": {},
   "outputs": [
    {
     "data": {
      "image/png": "[encoded data removed]",
      "text/plain": [
       "<Figure size 432x288 with 1 Axes>"
      ]
     },
     "metadata": {},
     "output_type": "display_data"
    }
   ],
   "source": [
    "df_by_PC_ID = df[df['prop_country_id'].isin(top10_PC_ID)].groupby(by='prop_country_id')['price_usd']\n",
    "\n",
    "mean_prices = df_by_PC_ID.mean()\n",
    "std_prices = df_by_PC_ID.std()\n",
    "\n",
    "mean_prices.plot(kind='bar', yerr=np.sqrt(std_prices)) # !!! reason sqrt is so std stays \"in scale\"\n",
    "plt.xlabel('prop_country_id')\n",
    "plt.ylabel('Mean price, sqrt(std)')\n",
    "plt.title(\"Prices of hotel in top 10 most popular countries\")\n",
    "plt.show()"
   ]
  },
  {
   "cell_type": "code",
   "execution_count": 1,
   "metadata": {},
   "outputs": [],
   "source": [
    "#df_by_PC_ID = df[df['prop_country_id'].isin(top5_PC_ID)].groupby(by='prop_country_id')['price_usd']\n",
    "\n",
    "#df_by_PC_ID = df_by_PC_ID.loc[df_by_PC_ID['prop_country_id'].isin(top5_PC_ID)]\n",
    "#df_by_PC_ID.describe()"
   ]
  },
  {
   "cell_type": "code",
   "execution_count": 62,
   "metadata": {},
   "outputs": [
    {
     "data": {
      "image/png": "[encoded data removed]",
      "text/plain": [
       "<Figure size 432x288 with 1 Axes>"
      ]
     },
     "metadata": {},
     "output_type": "display_data"
    }
   ],
   "source": [
    "#df_top5_PC_ID.boxplot(column='price_usd', by='prop_country_id')\n",
    "#plt.show()"
   ]
  },
  {
   "cell_type": "code",
   "execution_count": null,
   "metadata": {
    "collapsed": true
   },
   "outputs": [],
   "source": []
  },
  {
   "cell_type": "code",
   "execution_count": null,
   "metadata": {
    "collapsed": true
   },
   "outputs": [],
   "source": []
  },
  {
   "cell_type": "code",
   "execution_count": null,
   "metadata": {
    "collapsed": true
   },
   "outputs": [],
   "source": []
  },
  {
   "cell_type": "code",
   "execution_count": null,
   "metadata": {
    "collapsed": true
   },
   "outputs": [],
   "source": []
  },
  {
   "cell_type": "code",
   "execution_count": null,
   "metadata": {
    "collapsed": true
   },
   "outputs": [],
   "source": []
  },
  {
   "cell_type": "code",
   "execution_count": null,
   "metadata": {
    "collapsed": true
   },
   "outputs": [],
   "source": []
  },
  {
   "cell_type": "code",
   "execution_count": null,
   "metadata": {
    "collapsed": true
   },
   "outputs": [],
   "source": []
  },
  {
   "cell_type": "code",
   "execution_count": null,
   "metadata": {
    "collapsed": true
   },
   "outputs": [],
   "source": []
  },
  {
   "cell_type": "code",
   "execution_count": null,
   "metadata": {
    "collapsed": true
   },
   "outputs": [],
   "source": []
  },
  {
   "cell_type": "code",
   "execution_count": null,
   "metadata": {
    "collapsed": true
   },
   "outputs": [],
   "source": []
  }
 ],
 "metadata": {
  "kernelspec": {
   "display_name": "Python 3",
   "language": "python",
   "name": "python3"
  },
  "language_info": {
   "codemirror_mode": {
    "name": "ipython",
    "version": 3
   },
   "file_extension": ".py",
   "mimetype": "text/x-python",
   "name": "python",
   "nbconvert_exporter": "python",
   "pygments_lexer": "ipython3",
   "version": "3.6.4"
  }
 },
 "nbformat": 4,
 "nbformat_minor": 2
}
