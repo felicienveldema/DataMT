{
 "cells": [
  {
   "cell_type": "code",
   "execution_count": 1,
   "metadata": {},
   "outputs": [],
   "source": [
    "import numpy as np\n",
    "from scipy.stats import ttest_ind"
   ]
  },
  {
   "cell_type": "code",
   "execution_count": 2,
   "metadata": {},
   "outputs": [],
   "source": [
    "# Compare each pair of models, to see if their mean\n",
    "# nDCG on the srch_ids are significantly different."
   ]
  },
  {
   "cell_type": "code",
   "execution_count": 3,
   "metadata": {},
   "outputs": [],
   "source": [
    "baseline_nDCGs = []\n",
    "rf_nDCGs = []\n",
    "LM_nDCGs = []"
   ]
  },
  {
   "cell_type": "code",
   "execution_count": 4,
   "metadata": {},
   "outputs": [],
   "source": [
    "with open(\"out_nDCGs_baseline.txt\", 'r') as f1:\n",
    "    for line in f1:\n",
    "        x = line.strip('\\n').split(',')\n",
    "        baseline_nDCGs.append(float(x[1]))"
   ]
  },
  {
   "cell_type": "code",
   "execution_count": 5,
   "metadata": {},
   "outputs": [],
   "source": [
    "with open(\"out_nDCGs_rf.txt\", 'r') as f2:\n",
    "    for line in f2:\n",
    "        x = line.strip('\\n').split(',')\n",
    "        rf_nDCGs.append(float(x[1]))"
   ]
  },
  {
   "cell_type": "code",
   "execution_count": 6,
   "metadata": {},
   "outputs": [],
   "source": [
    "with open(\"out_nDCGs_LM.txt\", 'r') as f3:\n",
    "    for line in f3:\n",
    "        x = line.strip('\\n').split(',')\n",
    "        LM_nDCGs.append(float(x[1]))"
   ]
  },
  {
   "cell_type": "code",
   "execution_count": 7,
   "metadata": {},
   "outputs": [],
   "source": [
    "baseline_nDCGs = np.array(baseline_nDCGs)\n",
    "rf_nDCGs = np.array(rf_nDCGs)\n",
    "LM_nDCGs = np.array(LM_nDCGs)"
   ]
  },
  {
   "cell_type": "code",
   "execution_count": 8,
   "metadata": {},
   "outputs": [
    {
     "name": "stdout",
     "output_type": "stream",
     "text": [
      "number of queries is: 40012\n"
     ]
    }
   ],
   "source": [
    "print(\"number of queries is: \" + str(len(baseline_nDCGs)))"
   ]
  },
  {
   "cell_type": "code",
   "execution_count": 9,
   "metadata": {},
   "outputs": [
    {
     "name": "stdout",
     "output_type": "stream",
     "text": [
      "nDCGs baseline, mean: 0.3516209809156671, std: 0.19207910889037505\n",
      "nDCGs rf, mean: 0.42171893128794197, std: 0.23435306575331835\n",
      "nDCGs LM, mean: 0.4631273352355257, std: 0.2587558731055597\n"
     ]
    }
   ],
   "source": [
    "print(\"nDCGs baseline, mean: \" + str(np.mean(baseline_nDCGs)) + \", std: \" + str(np.std(baseline_nDCGs)))\n",
    "print(\"nDCGs rf, mean: \" + str(np.mean(rf_nDCGs)) + \", std: \" + str(np.std(rf_nDCGs)))\n",
    "print(\"nDCGs LM, mean: \" + str(np.mean(LM_nDCGs)) + \", std: \" + str(np.std(LM_nDCGs)))"
   ]
  },
  {
   "cell_type": "code",
   "execution_count": 10,
   "metadata": {},
   "outputs": [
    {
     "name": "stdout",
     "output_type": "stream",
     "text": [
      "Random forest vs Baseline: t-statistic is: 46.273936349359374, p-value is: 0.0\n"
     ]
    }
   ],
   "source": [
    "t,p = ttest_ind(rf_nDCGs, baseline_nDCGs)\n",
    "print(\"Random forest vs Baseline: t-statistic is: \" + str(t) + \", p-value is: \" + str(p))"
   ]
  },
  {
   "cell_type": "code",
   "execution_count": 11,
   "metadata": {},
   "outputs": [
    {
     "name": "stdout",
     "output_type": "stream",
     "text": [
      "LambdaMART vs Baseline: t-statistic is: 69.2130822108235, p-value is: 0.0\n"
     ]
    }
   ],
   "source": [
    "t,p = ttest_ind(LM_nDCGs, baseline_nDCGs)\n",
    "print(\"LambdaMART vs Baseline: t-statistic is: \" + str(t) + \", p-value is: \" + str(p))"
   ]
  },
  {
   "cell_type": "code",
   "execution_count": 12,
   "metadata": {},
   "outputs": [
    {
     "name": "stdout",
     "output_type": "stream",
     "text": [
      "LambdaMART vs Random forest: t-statistic is: 23.725707237982093, p-value is: 5.262785769375012e-124\n"
     ]
    }
   ],
   "source": [
    "t,p = ttest_ind(LM_nDCGs, rf_nDCGs)\n",
    "print(\"LambdaMART vs Random forest: t-statistic is: \" + str(t) + \", p-value is: \" + str(p))"
   ]
  },
  {
   "cell_type": "code",
   "execution_count": null,
   "metadata": {},
   "outputs": [],
   "source": []
  },
  {
   "cell_type": "code",
   "execution_count": null,
   "metadata": {},
   "outputs": [],
   "source": []
  },
  {
   "cell_type": "code",
   "execution_count": null,
   "metadata": {},
   "outputs": [],
   "source": []
  }
 ],
 "metadata": {
  "kernelspec": {
   "display_name": "Python 3",
   "language": "python",
   "name": "python3"
  },
  "language_info": {
   "codemirror_mode": {
    "name": "ipython",
    "version": 3
   },
   "file_extension": ".py",
   "mimetype": "text/x-python",
   "name": "python",
   "nbconvert_exporter": "python",
   "pygments_lexer": "ipython3",
   "version": "3.6.4"
  }
 },
 "nbformat": 4,
 "nbformat_minor": 2
}
